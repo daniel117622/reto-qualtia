{
 "cells": [
  {
   "cell_type": "markdown",
   "id": "8da778cc",
   "metadata": {},
   "source": [
    "Analisís inicial del JSON. Antes de iniciar descargue el archivo y con CTRL+ F encontré la propiedad \"custom_attributes\" indicada en el\n",
    "ejercicio. Manualmente también me aseguré de que fuese un solo producto por medio del SKU.\n",
    "\n",
    "Despues le pedí a GPT un script para buscar esa propiedad y que me imprima el path en formato de Python."
   ]
  },
  {
   "cell_type": "code",
   "execution_count": 32,
   "id": "ad6ed8ca",
   "metadata": {},
   "outputs": [
    {
     "name": "stdout",
     "output_type": "stream",
     "text": [
      "data['allVariants'][0]['attributesRaw'][31]['value']['en-CR']\n",
      "data['allVariants'][0]['attributesRaw'][31]['value']['es-CR']\n"
     ]
    }
   ],
   "source": [
    "import json\n",
    "import requests\n",
    "\n",
    "url = \"https://storage.googleapis.com/resources-prod-shelftia/scrapers-prueba/product.json\"\n",
    "output_file = \"product.json\"\n",
    "\n",
    "response = requests.get(url)\n",
    "data = response.json()\n",
    "\n",
    "matches = []\n",
    "\n",
    "# Este script es solo para yo entender mejor la estructura del JSON, como tal no es necesario en la implementación final.\n",
    "def recurse(obj, path=\"data\"):\n",
    "    if isinstance(obj, dict):\n",
    "        if obj.get(\"name\") == \"custom_attributes\":\n",
    "            value = obj.get(\"value\", {})\n",
    "            for lang_key in (\"en-CR\", \"es-CR\"):\n",
    "                if lang_key in value:\n",
    "                    try:\n",
    "                        parsed = json.loads(value[lang_key])\n",
    "                        matches.append(parsed)\n",
    "                        # Se imprime en formato de python.\n",
    "                        print(f\"{path}['value']['{lang_key}']\")\n",
    "                    except json.JSONDecodeError:\n",
    "                        pass\n",
    "        for k, v in obj.items():\n",
    "            recurse(v, f\"{path}['{k}']\")\n",
    "    elif isinstance(obj, list):\n",
    "        for idx, item in enumerate(obj):\n",
    "            recurse(item, f\"{path}[{idx}]\")\n",
    "\n",
    "recurse(data)            \n",
    "\n",
    "with open(output_file, 'w', encoding='utf-8', newline='\\n') as f:\n",
    "    json.dump(data, f, indent=2, ensure_ascii=False)\n"
   ]
  },
  {
   "cell_type": "markdown",
   "id": "fc627649",
   "metadata": {},
   "source": [
    "Se verifica que el path es valido y contiene un JSON en formato de string. Se utiliza la función next ya que e otras ocasiones\n",
    "me ha sucedido que no necesariamente la propiedad que se busca se localiza en el indice 31. Next es mas robusto en caso\n",
    "de que se quisieran analizar multiples productos y que custom_attributes no se encuentre en el índice 31"
   ]
  },
  {
   "cell_type": "code",
   "execution_count": null,
   "id": "c2f622d5",
   "metadata": {},
   "outputs": [
    {
     "name": "stdout",
     "output_type": "stream",
     "text": [
      "{\"storage\":{\"value\":{\"code\":\"refrigerated\",\"name\":\"Refrigerated\"},\"name\":\"Storage\",\"type\":\"pim_catalog_simpleselect\"},\"country_of_origin\":{\"value\":{\"code\":\"united_states\",\"name\":\"United States\"},\"name\":\"Country of Origin\",\"type\":\"pim_catalog_simpleselect\"},\"imported_national\":{\"value\":{\"code\":\"imported\",\"name\":\"Imported\"},\"name\":\"Imported / National\",\"type\":\"pim_catalog_simpleselect\"},\"form\":{\"value\":{\"code\":\"block\",\"name\":\"Block\"},\"name\":\"Form\",\"type\":\"pim_catalog_simpleselect\"},\"allergens\":{\"value\":[{\"code\":\"Milk\",\"name\":\"Milk\"}],\"name\":\"Allergens\",\"type\":\"pim_catalog_multiselect\"},\"sku\":{\"value\":\"29041\",\"name\":\"SKU (Item Number)\",\"type\":\"pim_catalog_identifier\"},\"show_online\":{\"value\":true,\"name\":\"Show Online\",\"type\":\"pim_catalog_boolean\"},\"add_to_cart\":{\"value\":true,\"name\":\"Add To Cart at Search/category\",\"type\":\"pim_catalog_boolean\"},\"vegan\":{\"value\":false,\"name\":\"Vegan\",\"type\":\"pim_catalog_boolean\"},\"kosher\":{\"value\":false,\"name\":\"Kosher\",\"type\":\"pim_catalog_boolean\"},\"organic\":{\"value\":false,\"name\":\"Organic\",\"type\":\"pim_catalog_boolean\"},\"vegetarian\":{\"value\":true,\"name\":\"Vegetarian\",\"type\":\"pim_catalog_boolean\"},\"gluten_free\":{\"value\":true,\"name\":\"Gluten Free\",\"type\":\"pim_catalog_boolean\"},\"lactose_free\":{\"value\":false,\"name\":\"Lactose Free\",\"type\":\"pim_catalog_boolean\"},\"members_selection\":{\"value\":true,\"name\":\"Member\\u0027s Selection\",\"type\":\"pim_catalog_boolean\"},\"artificial_coloring\":{\"value\":false,\"name\":\"Artificial Coloring\",\"type\":\"pim_catalog_boolean\"},\"Ingredients_text_area\":{\"value\":\"Unpasteurised Cultured Milk, Salt, Enzymes.\",\"name\":\"Ingredients\",\"type\":\"pim_catalog_textarea\"},\"net_weight\":{\"value\":\"452.0000\",\"name\":\"Net weight\",\"type\":\"pim_catalog_metric\",\"symbol\":\"g\",\"unitLabel\":\"Gram\"},\"unit_size\":{\"value\":\"452.0000\",\"name\":\"Unit Size (Each)\",\"type\":\"pim_catalog_metric\",\"symbol\":\"g\",\"unitLabel\":\"Gram\"},\"package_quantity\":{\"value\":1.0,\"name\":\"Package Quantity (Counts)\",\"type\":\"pim_catalog_number\"}}\n"
     ]
    }
   ],
   "source": [
    "custom_attr_item = next(\n",
    "    (item for item in data['allVariants'][0]['attributesRaw'] if item.get(\"name\") == \"custom_attributes\"),\n",
    "    None\n",
    ")\n",
    "\n",
    "custom_props_str = custom_attr_item['value']['en-CR'] if custom_attr_item else ''\n",
    "custom_props_json = json.loads(custom_props_str) if custom_props_str else {}\n",
    "print(custom_props_str)\n"
   ]
  },
  {
   "cell_type": "markdown",
   "id": "5e35102c",
   "metadata": {},
   "source": [
    "Le proporciono a la IA los valores que quiero extraer de este JSON. Le indico que utlize la librería de pandas.\n",
    "Con el codígo proporcionado verifico que maneje los edge cases como propiedades no existentes o propiedades de\n",
    "tipo lista. En este caso si las manejo correctamente. Las listas aparecen como strings con comas y \n",
    "si alguna propiedad no existe como un string vacio.\n",
    "\n",
    "Adicional agregue una función de utilidad para trabajar con datos en español.\n"
   ]
  },
  {
   "cell_type": "code",
   "execution_count": 55,
   "id": "55db6c04",
   "metadata": {},
   "outputs": [],
   "source": [
    "import pandas as pd\n",
    "import json\n",
    "\n",
    "langs = ['en-CR', 'es-CR']\n",
    "\n",
    "keys = [\n",
    "    \"Allergens\", \"SKU\", \"Vegan\", \"Kosher\", \"Organic\",\n",
    "    \"Vegetarian\", \"Gluten_free\", \"Lactose_free\",\n",
    "    \"Package_quantity\", \"Unit_size\", \"Net_weight\",\n",
    "    \"Propiedad_no_existente\"\n",
    "]\n",
    "\n",
    "def translate_boolean(value : bool) -> str:\n",
    "    return \"Verdadero\" if value is True else \"Falso\"\n",
    "\n",
    "def translate_lang(lang_code: str) -> str:\n",
    "    return {\n",
    "        \"en-CR\": \"English (Costa Rica)\",\n",
    "        \"es-CR\": \"Español (Costa Rica)\"\n",
    "    }.get(lang_code, lang_code)\n",
    "\n",
    "rows = []\n",
    "\n",
    "for lang in langs:\n",
    "    props_str = custom_attr_item['value'].get(lang, '') if custom_attr_item else ''\n",
    "    props_json = json.loads(props_str) if props_str else {}\n",
    "    \n",
    "    row = {\"Language\": translate_lang(lang)}\n",
    "\n",
    "    for key in keys:\n",
    "        val = props_json.get(key.lower(), {}).get(\"value\", \"\")\n",
    "        if isinstance(val, list):\n",
    "            val = \", \".join([item.get(\"name\", \"\") for item in val])\n",
    "\n",
    "        # Usar traducciones en español en caso de ser necesario.\n",
    "        elif lang == 'es-CR' and isinstance(val, bool):\n",
    "            val = translate_boolean(val)\n",
    "\n",
    "        row[key] = val\n",
    "\n",
    "    rows.append(row)\n",
    "\n",
    "\n",
    "# Create and save CSV\n",
    "df = pd.DataFrame(rows)\n",
    "df.to_csv(\"custom_props_bilingual.csv\", index=False)"
   ]
  },
  {
   "cell_type": "markdown",
   "id": "72e94eda",
   "metadata": {},
   "source": [
    "JupyterNotebook permite visualizar tablas limpiamente. Me apoye de IA para que se vea centrado, esto no afecta al CSV solo a la \n",
    "visualización."
   ]
  },
  {
   "cell_type": "code",
   "execution_count": 57,
   "id": "c5a0ba12",
   "metadata": {},
   "outputs": [
    {
     "data": {
      "text/html": [
       "<style type=\"text/css\">\n",
       "#T_88e52 td {\n",
       "  text-align: center;\n",
       "}\n",
       "#T_88e52 th {\n",
       "  text-align: center;\n",
       "}\n",
       "#T_88e52_row0_col0, #T_88e52_row0_col1, #T_88e52_row0_col2, #T_88e52_row0_col3, #T_88e52_row0_col4, #T_88e52_row0_col5, #T_88e52_row0_col6, #T_88e52_row0_col7, #T_88e52_row0_col8, #T_88e52_row0_col9, #T_88e52_row0_col10, #T_88e52_row0_col11, #T_88e52_row0_col12, #T_88e52_row1_col0, #T_88e52_row1_col1, #T_88e52_row1_col2, #T_88e52_row1_col3, #T_88e52_row1_col4, #T_88e52_row1_col5, #T_88e52_row1_col6, #T_88e52_row1_col7, #T_88e52_row1_col8, #T_88e52_row1_col9, #T_88e52_row1_col10, #T_88e52_row1_col11, #T_88e52_row1_col12 {\n",
       "  text-align: center;\n",
       "}\n",
       "</style>\n",
       "<table id=\"T_88e52\">\n",
       "  <thead>\n",
       "    <tr>\n",
       "      <th id=\"T_88e52_level0_col0\" class=\"col_heading level0 col0\" >Language</th>\n",
       "      <th id=\"T_88e52_level0_col1\" class=\"col_heading level0 col1\" >Allergens</th>\n",
       "      <th id=\"T_88e52_level0_col2\" class=\"col_heading level0 col2\" >SKU</th>\n",
       "      <th id=\"T_88e52_level0_col3\" class=\"col_heading level0 col3\" >Vegan</th>\n",
       "      <th id=\"T_88e52_level0_col4\" class=\"col_heading level0 col4\" >Kosher</th>\n",
       "      <th id=\"T_88e52_level0_col5\" class=\"col_heading level0 col5\" >Organic</th>\n",
       "      <th id=\"T_88e52_level0_col6\" class=\"col_heading level0 col6\" >Vegetarian</th>\n",
       "      <th id=\"T_88e52_level0_col7\" class=\"col_heading level0 col7\" >Gluten_free</th>\n",
       "      <th id=\"T_88e52_level0_col8\" class=\"col_heading level0 col8\" >Lactose_free</th>\n",
       "      <th id=\"T_88e52_level0_col9\" class=\"col_heading level0 col9\" >Package_quantity</th>\n",
       "      <th id=\"T_88e52_level0_col10\" class=\"col_heading level0 col10\" >Unit_size</th>\n",
       "      <th id=\"T_88e52_level0_col11\" class=\"col_heading level0 col11\" >Net_weight</th>\n",
       "      <th id=\"T_88e52_level0_col12\" class=\"col_heading level0 col12\" >Propiedad_no_existente</th>\n",
       "    </tr>\n",
       "  </thead>\n",
       "  <tbody>\n",
       "    <tr>\n",
       "      <td id=\"T_88e52_row0_col0\" class=\"data row0 col0\" >English (Costa Rica)</td>\n",
       "      <td id=\"T_88e52_row0_col1\" class=\"data row0 col1\" >Milk</td>\n",
       "      <td id=\"T_88e52_row0_col2\" class=\"data row0 col2\" >29041</td>\n",
       "      <td id=\"T_88e52_row0_col3\" class=\"data row0 col3\" >False</td>\n",
       "      <td id=\"T_88e52_row0_col4\" class=\"data row0 col4\" >False</td>\n",
       "      <td id=\"T_88e52_row0_col5\" class=\"data row0 col5\" >False</td>\n",
       "      <td id=\"T_88e52_row0_col6\" class=\"data row0 col6\" >True</td>\n",
       "      <td id=\"T_88e52_row0_col7\" class=\"data row0 col7\" >True</td>\n",
       "      <td id=\"T_88e52_row0_col8\" class=\"data row0 col8\" >False</td>\n",
       "      <td id=\"T_88e52_row0_col9\" class=\"data row0 col9\" >1.000000</td>\n",
       "      <td id=\"T_88e52_row0_col10\" class=\"data row0 col10\" >452.0000</td>\n",
       "      <td id=\"T_88e52_row0_col11\" class=\"data row0 col11\" >452.0000</td>\n",
       "      <td id=\"T_88e52_row0_col12\" class=\"data row0 col12\" ></td>\n",
       "    </tr>\n",
       "    <tr>\n",
       "      <td id=\"T_88e52_row1_col0\" class=\"data row1 col0\" >Español (Costa Rica)</td>\n",
       "      <td id=\"T_88e52_row1_col1\" class=\"data row1 col1\" >Leche</td>\n",
       "      <td id=\"T_88e52_row1_col2\" class=\"data row1 col2\" >29041</td>\n",
       "      <td id=\"T_88e52_row1_col3\" class=\"data row1 col3\" >Falso</td>\n",
       "      <td id=\"T_88e52_row1_col4\" class=\"data row1 col4\" >Falso</td>\n",
       "      <td id=\"T_88e52_row1_col5\" class=\"data row1 col5\" >Falso</td>\n",
       "      <td id=\"T_88e52_row1_col6\" class=\"data row1 col6\" >Verdadero</td>\n",
       "      <td id=\"T_88e52_row1_col7\" class=\"data row1 col7\" >Verdadero</td>\n",
       "      <td id=\"T_88e52_row1_col8\" class=\"data row1 col8\" >Falso</td>\n",
       "      <td id=\"T_88e52_row1_col9\" class=\"data row1 col9\" >1.000000</td>\n",
       "      <td id=\"T_88e52_row1_col10\" class=\"data row1 col10\" >452.0000</td>\n",
       "      <td id=\"T_88e52_row1_col11\" class=\"data row1 col11\" >452.0000</td>\n",
       "      <td id=\"T_88e52_row1_col12\" class=\"data row1 col12\" ></td>\n",
       "    </tr>\n",
       "  </tbody>\n",
       "</table>\n"
      ],
      "text/plain": [
       "<pandas.io.formats.style.Styler at 0x196e45165d0>"
      ]
     },
     "metadata": {},
     "output_type": "display_data"
    }
   ],
   "source": [
    "from IPython.display import display\n",
    "# Center all cells using Styler\n",
    "styled_df = df.style.set_table_styles(\n",
    "    [{'selector': 'td', 'props': [('text-align', 'center')]},\n",
    "     {'selector': 'th', 'props': [('text-align', 'center')]}]\n",
    ").set_properties(**{'text-align': 'center'}).hide(axis=\"index\")\n",
    "\n",
    "display(styled_df)"
   ]
  }
 ],
 "metadata": {
  "kernelspec": {
   "display_name": "Python 3",
   "language": "python",
   "name": "python3"
  },
  "language_info": {
   "codemirror_mode": {
    "name": "ipython",
    "version": 3
   },
   "file_extension": ".py",
   "mimetype": "text/x-python",
   "name": "python",
   "nbconvert_exporter": "python",
   "pygments_lexer": "ipython3",
   "version": "3.13.0b3"
  }
 },
 "nbformat": 4,
 "nbformat_minor": 5
}
